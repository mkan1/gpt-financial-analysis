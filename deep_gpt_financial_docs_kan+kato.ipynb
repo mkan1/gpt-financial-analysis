{
  "nbformat": 4,
  "nbformat_minor": 0,
  "metadata": {
    "colab": {
      "provenance": [],
      "authorship_tag": "ABX9TyPznuJPSJ/VKe98F2hEqvDv",
      "include_colab_link": true
    },
    "kernelspec": {
      "name": "python3",
      "display_name": "Python 3"
    },
    "language_info": {
      "name": "python"
    }
  },
  "cells": [
    {
      "cell_type": "markdown",
      "metadata": {
        "id": "view-in-github",
        "colab_type": "text"
      },
      "source": [
        "<a href=\"https://colab.research.google.com/github/mkan1/gpt-financial-analysis/blob/main/deep_gpt_financial_docs_kan%2Bkato.ipynb\" target=\"_parent\"><img src=\"https://colab.research.google.com/assets/colab-badge.svg\" alt=\"Open In Colab\"/></a>"
      ]
    },
    {
      "cell_type": "markdown",
      "source": [
        "# Retrieve Dataset\n",
        "\n",
        "Download the FinQA dataset and code from EMNLP 2021 paper: FinQA: A Dataset of Numerical Reasoning over Financial Data https://arxiv.org/abs/2109.00122"
      ],
      "metadata": {
        "id": "V-u_maj-4Oj0"
      }
    },
    {
      "cell_type": "code",
      "execution_count": 1,
      "metadata": {
        "colab": {
          "base_uri": "https://localhost:8080/"
        },
        "id": "S-XLRa9Z3dZ_",
        "outputId": "01489594-bbfe-4470-979f-97a821e7ea31"
      },
      "outputs": [
        {
          "output_type": "stream",
          "name": "stdout",
          "text": [
            "Cloning into 'FinQA'...\n",
            "remote: Enumerating objects: 239, done.\u001b[K\n",
            "remote: Counting objects: 100% (82/82), done.\u001b[K\n",
            "remote: Compressing objects: 100% (60/60), done.\u001b[K\n",
            "remote: Total 239 (delta 23), reused 59 (delta 22), pack-reused 157\u001b[K\n",
            "Receiving objects: 100% (239/239), 39.10 MiB | 18.18 MiB/s, done.\n",
            "Resolving deltas: 100% (101/101), done.\n"
          ]
        }
      ],
      "source": [
        "!git clone https://github.com/czyssrs/FinQA.git"
      ]
    },
    {
      "cell_type": "code",
      "source": [
        "!ls"
      ],
      "metadata": {
        "colab": {
          "base_uri": "https://localhost:8080/"
        },
        "id": "pTUoS4AC_DHn",
        "outputId": "8295a12b-87f2-4e74-e401-cfce33a5e206"
      },
      "execution_count": 2,
      "outputs": [
        {
          "output_type": "stream",
          "name": "stdout",
          "text": [
            "FinQA  sample_data\n"
          ]
        }
      ]
    },
    {
      "cell_type": "code",
      "source": [
        "import json\n",
        "import numpy as np\n",
        "f = open('FinQA/dataset/train.json')\n",
        "dict = json.load(f)"
      ],
      "metadata": {
        "id": "63fWpuxL37zI"
      },
      "execution_count": 28,
      "outputs": []
    },
    {
      "cell_type": "code",
      "source": [
        "arr = np.array(\n",
        "    [\n",
        "        [\n",
        "        '\\n'.join(data['pre_text'] + data['post_text']),\n",
        "        json.dumps(data['table_ori']),\n",
        "        json.dumps(data['table']),\n",
        "        data['qa']['question'],\n",
        "        data['qa']['answer']\n",
        "    ] for data in dict])"
      ],
      "metadata": {
        "id": "CtDCKCqvVLIt"
      },
      "execution_count": 66,
      "outputs": []
    },
    {
      "cell_type": "code",
      "source": [
        "X = arr[:, :-1] # for all but last column\n",
        "y = arr[:, -1] # for last column"
      ],
      "metadata": {
        "id": "ynAQgyb6DDUl"
      },
      "execution_count": 70,
      "outputs": []
    },
    {
      "cell_type": "code",
      "source": [],
      "metadata": {
        "id": "zPNfOvbACxbb"
      },
      "execution_count": 73,
      "outputs": []
    },
    {
      "cell_type": "code",
      "source": [],
      "metadata": {
        "id": "cNGd_eUP83QX"
      },
      "execution_count": 73,
      "outputs": []
    },
    {
      "cell_type": "code",
      "source": [],
      "metadata": {
        "id": "VaU9BxUEGxuW"
      },
      "execution_count": 73,
      "outputs": []
    },
    {
      "cell_type": "code",
      "source": [],
      "metadata": {
        "id": "afSpSFWPCr9I"
      },
      "execution_count": 73,
      "outputs": []
    }
  ]
}